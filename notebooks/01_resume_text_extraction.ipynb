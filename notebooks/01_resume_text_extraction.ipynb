{
 "cells": [
  {
   "cell_type": "code",
   "execution_count": 1,
   "id": "beb7fce4",
   "metadata": {},
   "outputs": [
    {
     "name": "stdout",
     "output_type": "stream",
     "text": [
      "📂 Now working dir: E:\\AI-Resume screener\n",
      "✅ Project root added to sys.path\n"
     ]
    }
   ],
   "source": [
    "import os, sys\n",
    "\n",
    "os.chdir(\"E:/AI-Resume screener\")\n",
    "print(\"📂 Now working dir:\", os.getcwd())\n",
    "\n",
    "if os.getcwd() not in sys.path:\n",
    "    sys.path.insert(0, os.getcwd())\n",
    "print(\"✅ Project root added to sys.path\")\n"
   ]
  },
  {
   "cell_type": "code",
   "execution_count": 2,
   "id": "d6b50058",
   "metadata": {},
   "outputs": [],
   "source": [
    "import os\n",
    "os.chdir(r\"E:\\AI-Resume screener\")  # 👈 apne project ka full path daalna\n"
   ]
  },
  {
   "cell_type": "code",
   "execution_count": 3,
   "id": "5dd103ca",
   "metadata": {},
   "outputs": [
    {
     "data": {
      "text/plain": [
       "['data_preprocessing.py',\n",
       " 'feature_engineering.py',\n",
       " 'generate_enhanced_dataset.py',\n",
       " 'label_encoder.pkl',\n",
       " 'model.pkl',\n",
       " 'model_training.py',\n",
       " 'predict.py',\n",
       " 'tfidf.pkl',\n",
       " 'train_enhanced_model.py',\n",
       " 'train_model_optimized.py',\n",
       " 'utils.py',\n",
       " '__init__.py',\n",
       " '__pycache__']"
      ]
     },
     "execution_count": 3,
     "metadata": {},
     "output_type": "execute_result"
    }
   ],
   "source": [
    "os.listdir(\"src\")\n"
   ]
  },
  {
   "cell_type": "code",
   "execution_count": 4,
   "id": "ae2695c4",
   "metadata": {},
   "outputs": [
    {
     "name": "stdout",
     "output_type": "stream",
     "text": [
      "✅ Import successful!\n"
     ]
    }
   ],
   "source": [
    "from src.data_preprocessing import preprocess_data\n",
    "print(\"✅ Import successful!\")\n"
   ]
  },
  {
   "cell_type": "code",
   "execution_count": 5,
   "id": "2d6a9612",
   "metadata": {},
   "outputs": [
    {
     "name": "stdout",
     "output_type": "stream",
     "text": [
      "✅ Added project root: E:\\AI-Resume screener\n"
     ]
    }
   ],
   "source": [
    "import sys, os\n",
    "\n",
    "project_root = os.getcwd()\n",
    "if project_root not in sys.path:\n",
    "    sys.path.insert(0, project_root)\n",
    "\n",
    "print(\"✅ Added project root:\", project_root)\n"
   ]
  },
  {
   "cell_type": "code",
   "execution_count": 6,
   "id": "aa0e4e8d",
   "metadata": {},
   "outputs": [
    {
     "name": "stdout",
     "output_type": "stream",
     "text": [
      "🔍 src exists: True\n",
      "📁 src content: ['data_preprocessing.py', 'feature_engineering.py', 'generate_enhanced_dataset.py', 'label_encoder.pkl', 'model.pkl', 'model_training.py', 'predict.py', 'tfidf.pkl', 'train_enhanced_model.py', 'train_model_optimized.py', 'utils.py', '__init__.py', '__pycache__']\n"
     ]
    }
   ],
   "source": [
    "import os\n",
    "print(\"🔍 src exists:\", os.path.exists(\"src\"))\n",
    "print(\"📁 src content:\", os.listdir(\"src\"))\n"
   ]
  },
  {
   "cell_type": "code",
   "execution_count": 7,
   "id": "2e313cc1",
   "metadata": {},
   "outputs": [
    {
     "name": "stdout",
     "output_type": "stream",
     "text": [
      "📂 Working dir: E:\\AI-Resume screener\n",
      "✅ Added to sys.path: E:\\\n",
      "\n",
      "🔍 Checking src folder:\n",
      "False\n"
     ]
    }
   ],
   "source": [
    "import sys, os\n",
    "\n",
    "project_root = os.path.abspath(os.path.join(os.getcwd(), '..'))\n",
    "if project_root not in sys.path:\n",
    "    sys.path.insert(0, project_root)\n",
    "\n",
    "print(\"📂 Working dir:\", os.getcwd())\n",
    "print(\"✅ Added to sys.path:\", project_root)\n",
    "\n",
    "print(\"\\n🔍 Checking src folder:\")\n",
    "print(os.path.exists(os.path.join(project_root, 'src')))\n"
   ]
  },
  {
   "cell_type": "code",
   "execution_count": 8,
   "id": "e13e1a18",
   "metadata": {},
   "outputs": [
    {
     "name": "stdout",
     "output_type": "stream",
     "text": [
      "✅ src.data_preprocessing imported successfully!\n"
     ]
    }
   ],
   "source": [
    "from src import data_preprocessing\n",
    "print(\"✅ src.data_preprocessing imported successfully!\")\n"
   ]
  },
  {
   "cell_type": "code",
   "execution_count": 9,
   "id": "10c9360a",
   "metadata": {},
   "outputs": [
    {
     "name": "stdout",
     "output_type": "stream",
     "text": [
      "['E:\\\\', 'E:\\\\AI-Resume screener', 'C:\\\\Users\\\\Aditya Jaiswal\\\\anaconda3\\\\python312.zip', 'C:\\\\Users\\\\Aditya Jaiswal\\\\anaconda3\\\\DLLs', 'C:\\\\Users\\\\Aditya Jaiswal\\\\anaconda3\\\\Lib', 'C:\\\\Users\\\\Aditya Jaiswal\\\\anaconda3', 'e:\\\\AI-Resume screener\\\\venv', '', 'e:\\\\AI-Resume screener\\\\venv\\\\Lib\\\\site-packages']\n"
     ]
    }
   ],
   "source": [
    "import sys\n",
    "print(sys.path)\n"
   ]
  },
  {
   "cell_type": "code",
   "execution_count": 10,
   "id": "c00fd908",
   "metadata": {},
   "outputs": [
    {
     "name": "stdout",
     "output_type": "stream",
     "text": [
      "📂 Now current working dir: E:\\AI-Resume screener\n",
      "✅ Project root added to sys.path\n"
     ]
    }
   ],
   "source": [
    "import os, sys\n",
    "\n",
    "# Go to project root manually\n",
    "os.chdir(\"E:/AI-Resume screener\")\n",
    "print(\"📂 Now current working dir:\", os.getcwd())\n",
    "\n",
    "# Add to sys.path (again just to be sure)\n",
    "if os.getcwd() not in sys.path:\n",
    "    sys.path.insert(0, os.getcwd())\n",
    "\n",
    "print(\"✅ Project root added to sys.path\")\n"
   ]
  },
  {
   "cell_type": "code",
   "execution_count": 11,
   "id": "dda5e898",
   "metadata": {},
   "outputs": [
    {
     "name": "stdout",
     "output_type": "stream",
     "text": [
      "✅ Imported successfully!\n"
     ]
    }
   ],
   "source": [
    "from src.data_preprocessing import preprocess_data\n",
    "print(\"✅ Imported successfully!\")\n"
   ]
  },
  {
   "cell_type": "code",
   "execution_count": 12,
   "id": "9cc9e9db",
   "metadata": {},
   "outputs": [
    {
     "name": "stdout",
     "output_type": "stream",
     "text": [
      "['data_preprocessing.py', 'feature_engineering.py', 'generate_enhanced_dataset.py', 'label_encoder.pkl', 'model.pkl', 'model_training.py', 'predict.py', 'tfidf.pkl', 'train_enhanced_model.py', 'train_model_optimized.py', 'utils.py', '__init__.py', '__pycache__']\n"
     ]
    }
   ],
   "source": [
    "import os\n",
    "print(os.listdir(\"src\"))\n"
   ]
  },
  {
   "cell_type": "markdown",
   "id": "b6477572",
   "metadata": {},
   "source": []
  },
  {
   "cell_type": "code",
   "execution_count": 13,
   "id": "3d3aadc8",
   "metadata": {},
   "outputs": [
    {
     "name": "stdout",
     "output_type": "stream",
     "text": [
      "resume Dataset Loaded\n",
      "       Category                                             Resume\n",
      "0  Data Science  Skills * Programming Languages: Python (pandas...\n",
      "1  Data Science  Education Details \\r\\nMay 2013 to May 2017 B.E...\n",
      "2  Data Science  Areas of Interest Deep Learning, Control Syste...\n",
      "3  Data Science  Skills â¢ R â¢ Python â¢ SAP HANA â¢ Table...\n",
      "4  Data Science  Education Details \\r\\n MCA   YMCAUST,  Faridab...\n",
      "Job Dataset Loaded\n",
      "   Unnamed: 0             Job Title  \\\n",
      "0           0     Flutter Developer   \n",
      "1           1      Django Developer   \n",
      "2           2      Machine Learning   \n",
      "3           3         iOS Developer   \n",
      "4           4  Full Stack Developer   \n",
      "\n",
      "                                     Job Description  \n",
      "0  We are looking for hire experts flutter develo...  \n",
      "1  PYTHON/DJANGO (Developer/Lead) - Job Code(PDJ ...  \n",
      "2  Data Scientist (Contractor)\\n\\nBangalore, IN\\n...  \n",
      "3  JOB DESCRIPTION:\\n\\nStrong framework outside o...  \n",
      "4  job responsibility full stack engineer – react...  \n"
     ]
    }
   ],
   "source": [
    "import pandas as pd\n",
    "\n",
    "resume_data=pd.read_csv(r\"C:\\Users\\Aditya Jaiswal\\Downloads\\UpdatedResumeDataSet.csv\\UpdatedResumeDataSet.csv\")\n",
    "print(\"resume Dataset Loaded\")\n",
    "print(resume_data.head())\n",
    "\n",
    "job_data=pd.read_csv(r\"C:\\Users\\Aditya Jaiswal\\Downloads\\job_title_des.csv\\job_title_des.csv\")\n",
    "print(\"Job Dataset Loaded\")\n",
    "\n",
    "print(job_data.head())"
   ]
  },
  {
   "cell_type": "code",
   "execution_count": 14,
   "id": "3d3aadc8",
   "metadata": {},
   "outputs": [
    {
     "data": {
      "text/plain": [
       "Index(['Unnamed: 0', 'Job Title', 'Job Description'], dtype='object')"
      ]
     },
     "execution_count": 14,
     "metadata": {},
     "output_type": "execute_result"
    }
   ],
   "source": [
    "resume_data.columns\n",
    "job_data.columns\n"
   ]
  },
  {
   "cell_type": "code",
   "execution_count": 15,
   "metadata": {},
   "outputs": [
    {
     "name": "stdout",
     "output_type": "stream",
     "text": [
      "<class 'pandas.core.frame.DataFrame'>\n",
      "RangeIndex: 962 entries, 0 to 961\n",
      "Data columns (total 2 columns):\n",
      " #   Column    Non-Null Count  Dtype \n",
      "---  ------    --------------  ----- \n",
      " 0   Category  962 non-null    object\n",
      " 1   Resume    962 non-null    object\n",
      "dtypes: object(2)\n",
      "memory usage: 15.2+ KB\n",
      "<class 'pandas.core.frame.DataFrame'>\n",
      "RangeIndex: 2277 entries, 0 to 2276\n",
      "Data columns (total 3 columns):\n",
      " #   Column           Non-Null Count  Dtype \n",
      "---  ------           --------------  ----- \n",
      " 0   Unnamed: 0       2277 non-null   int64 \n",
      " 1   Job Title        2277 non-null   object\n",
      " 2   Job Description  2277 non-null   object\n",
      "dtypes: int64(1), object(2)\n",
      "memory usage: 53.5+ KB\n"
     ]
    },
    {
     "data": {
      "text/plain": [
       "Unnamed: 0         0\n",
       "Job Title          0\n",
       "Job Description    0\n",
       "dtype: int64"
      ]
     },
     "execution_count": 15,
     "metadata": {},
     "output_type": "execute_result"
    }
   ],
   "source": [
    "resume_data.info()\n",
    "job_data.info()\n",
    "resume_data.isnull().sum()\n",
    "job_data.isnull().sum()\n"
   ]
  },
  {
   "cell_type": "code",
   "execution_count": 16,
   "id": "1406ed08",
   "metadata": {},
   "outputs": [
    {
     "data": {
      "text/plain": [
       "(962, 2)"
      ]
     },
     "execution_count": 16,
     "metadata": {},
     "output_type": "execute_result"
    }
   ],
   "source": [
    "resume_data.shape"
   ]
  },
  {
   "cell_type": "code",
   "execution_count": 17,
   "id": "46b480f7",
   "metadata": {},
   "outputs": [
    {
     "data": {
      "text/plain": [
       "Index(['Category', 'Resume'], dtype='object')"
      ]
     },
     "execution_count": 17,
     "metadata": {},
     "output_type": "execute_result"
    }
   ],
   "source": [
    "resume_data.columns"
   ]
  },
  {
   "cell_type": "code",
   "execution_count": 18,
   "id": "991dcec4",
   "metadata": {},
   "outputs": [
    {
     "data": {
      "text/html": [
       "<div>\n",
       "<style scoped>\n",
       "    .dataframe tbody tr th:only-of-type {\n",
       "        vertical-align: middle;\n",
       "    }\n",
       "\n",
       "    .dataframe tbody tr th {\n",
       "        vertical-align: top;\n",
       "    }\n",
       "\n",
       "    .dataframe thead th {\n",
       "        text-align: right;\n",
       "    }\n",
       "</style>\n",
       "<table border=\"1\" class=\"dataframe\">\n",
       "  <thead>\n",
       "    <tr style=\"text-align: right;\">\n",
       "      <th></th>\n",
       "      <th>Category</th>\n",
       "      <th>Resume</th>\n",
       "    </tr>\n",
       "  </thead>\n",
       "  <tbody>\n",
       "    <tr>\n",
       "      <th>0</th>\n",
       "      <td>Data Science</td>\n",
       "      <td>Skills * Programming Languages: Python (pandas...</td>\n",
       "    </tr>\n",
       "    <tr>\n",
       "      <th>1</th>\n",
       "      <td>Data Science</td>\n",
       "      <td>Education Details \\r\\nMay 2013 to May 2017 B.E...</td>\n",
       "    </tr>\n",
       "    <tr>\n",
       "      <th>2</th>\n",
       "      <td>Data Science</td>\n",
       "      <td>Areas of Interest Deep Learning, Control Syste...</td>\n",
       "    </tr>\n",
       "    <tr>\n",
       "      <th>3</th>\n",
       "      <td>Data Science</td>\n",
       "      <td>Skills â¢ R â¢ Python â¢ SAP HANA â¢ Table...</td>\n",
       "    </tr>\n",
       "    <tr>\n",
       "      <th>4</th>\n",
       "      <td>Data Science</td>\n",
       "      <td>Education Details \\r\\n MCA   YMCAUST,  Faridab...</td>\n",
       "    </tr>\n",
       "  </tbody>\n",
       "</table>\n",
       "</div>"
      ],
      "text/plain": [
       "       Category                                             Resume\n",
       "0  Data Science  Skills * Programming Languages: Python (pandas...\n",
       "1  Data Science  Education Details \\r\\nMay 2013 to May 2017 B.E...\n",
       "2  Data Science  Areas of Interest Deep Learning, Control Syste...\n",
       "3  Data Science  Skills â¢ R â¢ Python â¢ SAP HANA â¢ Table...\n",
       "4  Data Science  Education Details \\r\\n MCA   YMCAUST,  Faridab..."
      ]
     },
     "execution_count": 18,
     "metadata": {},
     "output_type": "execute_result"
    }
   ],
   "source": [
    "resume_data.head()"
   ]
  },
  {
   "cell_type": "code",
   "execution_count": 19,
   "id": "e3960947",
   "metadata": {},
   "outputs": [
    {
     "data": {
      "text/plain": [
       "Category\n",
       "Java Developer               84\n",
       "Testing                      70\n",
       "DevOps Engineer              55\n",
       "Python Developer             48\n",
       "Web Designing                45\n",
       "HR                           44\n",
       "Hadoop                       42\n",
       "Sales                        40\n",
       "Data Science                 40\n",
       "Mechanical Engineer          40\n",
       "ETL Developer                40\n",
       "Blockchain                   40\n",
       "Operations Manager           40\n",
       "Arts                         36\n",
       "Database                     33\n",
       "Health and fitness           30\n",
       "PMO                          30\n",
       "Electrical Engineering       30\n",
       "Business Analyst             28\n",
       "DotNet Developer             28\n",
       "Automation Testing           26\n",
       "Network Security Engineer    25\n",
       "Civil Engineer               24\n",
       "SAP Developer                24\n",
       "Advocate                     20\n",
       "Name: count, dtype: int64"
      ]
     },
     "execution_count": 19,
     "metadata": {},
     "output_type": "execute_result"
    }
   ],
   "source": [
    "resume_data['Category'].value_counts()\n"
   ]
  },
  {
   "cell_type": "code",
   "execution_count": 20,
   "id": "93efd0bc",
   "metadata": {},
   "outputs": [
    {
     "name": "stderr",
     "output_type": "stream",
     "text": [
      "<>:4: SyntaxWarning: invalid escape sequence '\\S'\n",
      "<>:6: SyntaxWarning: invalid escape sequence '\\S'\n",
      "<>:7: SyntaxWarning: invalid escape sequence '\\S'\n",
      "<>:8: SyntaxWarning: invalid escape sequence '\\]'\n",
      "<>:10: SyntaxWarning: invalid escape sequence '\\s'\n",
      "<>:4: SyntaxWarning: invalid escape sequence '\\S'\n",
      "<>:6: SyntaxWarning: invalid escape sequence '\\S'\n",
      "<>:7: SyntaxWarning: invalid escape sequence '\\S'\n",
      "<>:8: SyntaxWarning: invalid escape sequence '\\]'\n",
      "<>:10: SyntaxWarning: invalid escape sequence '\\s'\n",
      "C:\\Users\\Aditya Jaiswal\\AppData\\Local\\Temp\\ipykernel_5356\\2426861272.py:4: SyntaxWarning: invalid escape sequence '\\S'\n",
      "  text = re.sub('http\\S+\\s*', ' ', text)  # remove urls\n",
      "C:\\Users\\Aditya Jaiswal\\AppData\\Local\\Temp\\ipykernel_5356\\2426861272.py:6: SyntaxWarning: invalid escape sequence '\\S'\n",
      "  text = re.sub('#\\S+', '', text)         # remove hashtags\n",
      "C:\\Users\\Aditya Jaiswal\\AppData\\Local\\Temp\\ipykernel_5356\\2426861272.py:7: SyntaxWarning: invalid escape sequence '\\S'\n",
      "  text = re.sub('@\\S+', '  ', text)       # remove mentions\n",
      "C:\\Users\\Aditya Jaiswal\\AppData\\Local\\Temp\\ipykernel_5356\\2426861272.py:8: SyntaxWarning: invalid escape sequence '\\]'\n",
      "  text = re.sub('[%s]' % re.escape(\"\"\"!\"#$%&'()*+,-./:;<=>?@[\\]^_`{|}~\"\"\"), ' ', text) # remove punctuations\n",
      "C:\\Users\\Aditya Jaiswal\\AppData\\Local\\Temp\\ipykernel_5356\\2426861272.py:10: SyntaxWarning: invalid escape sequence '\\s'\n",
      "  text = re.sub('\\s+', ' ', text)          # remove extra whitespace\n"
     ]
    }
   ],
   "source": [
    "import re\n",
    "\n",
    "def clean_resume(text):\n",
    "    text = re.sub('http\\S+\\s*', ' ', text)  # remove urls\n",
    "    text = re.sub('RT|cc', ' ', text)       # remove RT and cc\n",
    "    text = re.sub('#\\S+', '', text)         # remove hashtags\n",
    "    text = re.sub('@\\S+', '  ', text)       # remove mentions\n",
    "    text = re.sub('[%s]' % re.escape(\"\"\"!\"#$%&'()*+,-./:;<=>?@[\\]^_`{|}~\"\"\"), ' ', text) # remove punctuations\n",
    "    text = re.sub(r'[^\\x00-\\x7f]', ' ', text) # remove non-ascii\n",
    "    text = re.sub('\\s+', ' ', text)          # remove extra whitespace\n",
    "    return text\n",
    "\n",
    "resume_data['cleaned_resume'] = resume_data['Resume'].apply(lambda x: clean_resume(x))\n"
   ]
  },
  {
   "cell_type": "code",
   "execution_count": 21,
   "id": "1082818b",
   "metadata": {},
   "outputs": [
    {
     "data": {
      "text/plain": [
       "'Skills Programming Languages Python pandas numpy scipy scikit learn matplotlib Sql Java JavaScript JQuery Machine learning Regression SVM Na ve Bayes KNN Random Forest Decision Trees Boosting techniques Cluster Analysis Word Embedding Sentiment Analysis Natural Language processing Dimensionality reduction Topic Modelling LDA NMF PCA Neural Nets Database Visualizations Mysql SqlServer Cassandra Hbase ElasticSearch D3 js DC js Plotly kibana matplotlib ggplot Tableau Others Regular Expression HTML '"
      ]
     },
     "execution_count": 21,
     "metadata": {},
     "output_type": "execute_result"
    }
   ],
   "source": [
    "resume_data['cleaned_resume'][0][:500]\n"
   ]
  },
  {
   "cell_type": "code",
   "execution_count": 22,
   "id": "36105879",
   "metadata": {},
   "outputs": [],
   "source": [
    "from sklearn.model_selection import train_test_split\n",
    "from sklearn.preprocessing import LabelEncoder\n",
    "from sklearn.feature_extraction.text import TfidfVectorizer"
   ]
  },
  {
   "cell_type": "code",
   "execution_count": 23,
   "id": "acb7e406",
   "metadata": {},
   "outputs": [],
   "source": [
    "label_encoder = LabelEncoder()\n",
    "resume_data['category_encoded'] = label_encoder.fit_transform(resume_data['Category'])\n"
   ]
  },
  {
   "cell_type": "code",
   "execution_count": 24,
   "id": "6bdbead6",
   "metadata": {},
   "outputs": [
    {
     "data": {
      "text/plain": [
       "[('Advocate', 0),\n",
       " ('Arts', 1),\n",
       " ('Automation Testing', 2),\n",
       " ('Blockchain', 3),\n",
       " ('Business Analyst', 4),\n",
       " ('Civil Engineer', 5),\n",
       " ('Data Science', 6),\n",
       " ('Database', 7),\n",
       " ('DevOps Engineer', 8),\n",
       " ('DotNet Developer', 9),\n",
       " ('ETL Developer', 10),\n",
       " ('Electrical Engineering', 11),\n",
       " ('HR', 12),\n",
       " ('Hadoop', 13),\n",
       " ('Health and fitness', 14),\n",
       " ('Java Developer', 15),\n",
       " ('Mechanical Engineer', 16),\n",
       " ('Network Security Engineer', 17),\n",
       " ('Operations Manager', 18),\n",
       " ('PMO', 19),\n",
       " ('Python Developer', 20),\n",
       " ('SAP Developer', 21),\n",
       " ('Sales', 22),\n",
       " ('Testing', 23),\n",
       " ('Web Designing', 24)]"
      ]
     },
     "execution_count": 24,
     "metadata": {},
     "output_type": "execute_result"
    }
   ],
   "source": [
    "list(zip(label_encoder.classes_, range(len(label_encoder.classes_))))"
   ]
  },
  {
   "cell_type": "code",
   "execution_count": 25,
   "id": "52906c8b",
   "metadata": {},
   "outputs": [],
   "source": [
    "X_train,X_test,y_train,y_test=train_test_split(\n",
    "    resume_data['cleaned_resume'],\n",
    "    resume_data['category_encoded'],\n",
    "    test_size=0.2,\n",
    "    random_state=42\n",
    ")"
   ]
  },
  {
   "cell_type": "code",
   "execution_count": 26,
   "id": "8aa07836",
   "metadata": {},
   "outputs": [
    {
     "data": {
      "text/plain": [
       "Index(['Category', 'Resume', 'cleaned_resume', 'category_encoded'], dtype='object')"
      ]
     },
     "execution_count": 26,
     "metadata": {},
     "output_type": "execute_result"
    }
   ],
   "source": [
    "resume_data.columns"
   ]
  },
  {
   "cell_type": "code",
   "execution_count": 27,
   "id": "79b5e617",
   "metadata": {},
   "outputs": [],
   "source": [
    "tfidf=TfidfVectorizer(stop_words='english',max_features=5000)\n",
    "X_train_tfidf=tfidf.fit_transform(X_train)\n",
    "X_test_tfidf=tfidf.transform(X_test)"
   ]
  },
  {
   "cell_type": "code",
   "execution_count": 28,
   "id": "2bf71e8f",
   "metadata": {},
   "outputs": [
    {
     "data": {
      "text/plain": [
       "((769, 5000), (193, 5000))"
      ]
     },
     "execution_count": 28,
     "metadata": {},
     "output_type": "execute_result"
    }
   ],
   "source": [
    "X_train_tfidf.shape, X_test_tfidf.shape\n"
   ]
  },
  {
   "cell_type": "code",
   "execution_count": 29,
   "id": "a5dde7ad",
   "metadata": {},
   "outputs": [
    {
     "name": "stdout",
     "output_type": "stream",
     "text": [
      "TF-IDF transformation done!\n",
      "Train shape: (769, 5000), Test shape: (193, 5000)\n"
     ]
    }
   ],
   "source": [
    "from sklearn.feature_extraction.text import TfidfVectorizer\n",
    "\n",
    "# Initialize TF-IDF vectorizer\n",
    "tfidf = TfidfVectorizer(\n",
    "    sublinear_tf=True,\n",
    "    stop_words='english',\n",
    "    max_features=5000\n",
    ")\n",
    "\n",
    "# Fit & transform the training data, transform the test data\n",
    "X_train_tfidf = tfidf.fit_transform(X_train)\n",
    "X_test_tfidf = tfidf.transform(X_test)\n",
    "\n",
    "print(\"TF-IDF transformation done!\")\n",
    "print(f\"Train shape: {X_train_tfidf.shape}, Test shape: {X_test_tfidf.shape}\")\n"
   ]
  },
  {
   "cell_type": "code",
   "execution_count": 30,
   "id": "0c5079cb",
   "metadata": {},
   "outputs": [
    {
     "name": "stdout",
     "output_type": "stream",
     "text": [
      "Model Training Completed\n"
     ]
    }
   ],
   "source": [
    "from sklearn.linear_model import LogisticRegression\n",
    "\n",
    "model=LogisticRegression(max_iter=300)\n",
    "model.fit(X_train_tfidf,y_train)\n",
    "\n",
    "print(\"Model Training Completed\")"
   ]
  },
  {
   "cell_type": "code",
   "execution_count": 31,
   "id": "0ed082cb",
   "metadata": {},
   "outputs": [
    {
     "name": "stdout",
     "output_type": "stream",
     "text": [
      "Model Accuracy: 0.99\n",
      "\n",
      "Classification Report:\n",
      "              precision    recall  f1-score   support\n",
      "\n",
      "           0       1.00      1.00      1.00         3\n",
      "           1       1.00      1.00      1.00         6\n",
      "           2       1.00      1.00      1.00         5\n",
      "           3       1.00      1.00      1.00         7\n",
      "           4       1.00      1.00      1.00         4\n",
      "           5       1.00      1.00      1.00         9\n",
      "           6       1.00      1.00      1.00         5\n",
      "           7       1.00      1.00      1.00         8\n",
      "           8       1.00      0.93      0.96        14\n",
      "           9       1.00      1.00      1.00         5\n",
      "          10       1.00      1.00      1.00         7\n",
      "          11       1.00      1.00      1.00         6\n",
      "          12       1.00      1.00      1.00        12\n",
      "          13       1.00      1.00      1.00         4\n",
      "          14       1.00      1.00      1.00         7\n",
      "          15       1.00      1.00      1.00        15\n",
      "          16       1.00      1.00      1.00         8\n",
      "          17       1.00      1.00      1.00         3\n",
      "          18       1.00      1.00      1.00        12\n",
      "          19       0.88      1.00      0.93         7\n",
      "          20       1.00      1.00      1.00        10\n",
      "          21       1.00      1.00      1.00         7\n",
      "          22       1.00      1.00      1.00         8\n",
      "          23       1.00      1.00      1.00        16\n",
      "          24       1.00      1.00      1.00         5\n",
      "\n",
      "    accuracy                           0.99       193\n",
      "   macro avg       0.99      1.00      1.00       193\n",
      "weighted avg       1.00      0.99      0.99       193\n",
      "\n"
     ]
    },
    {
     "data": {
      "image/png": "[encoded data removed]",
      "text/plain": [
       "<Figure size 1000x600 with 2 Axes>"
      ]
     },
     "metadata": {},
     "output_type": "display_data"
    }
   ],
   "source": [
    "from sklearn.metrics import accuracy_score, classification_report, confusion_matrix\n",
    "\n",
    "y_pred = model.predict(X_test_tfidf)\n",
    "\n",
    "acc = accuracy_score(y_test, y_pred)\n",
    "print(f\"Model Accuracy: {acc:.2f}\")\n",
    "\n",
    "print(\"\\nClassification Report:\")\n",
    "print(classification_report(y_test, y_pred))\n",
    "\n",
    "import seaborn as sns\n",
    "import matplotlib.pyplot as plt\n",
    "\n",
    "plt.figure(figsize=(10,6))\n",
    "sns.heatmap(confusion_matrix(y_test,y_pred), annot=True, fmt='d',cmap='Blues')\n",
    "plt.title(\"Confusion Matrix\")\n",
    "plt.xlabel(\"Predicted Labels\")\n",
    "plt.ylabel(\"True Labels\")\n",
    "plt.show()"
   ]
  },
  {
   "cell_type": "code",
   "execution_count": 32,
   "id": "c5a6589f",
   "metadata": {},
   "outputs": [
    {
     "name": "stdout",
     "output_type": "stream",
     "text": [
      "✅ Model and vectorizer saved successfully!\n"
     ]
    }
   ],
   "source": [
    "import joblib\n",
    "\n",
    "joblib.dump(model, \"resume_model.pkl\")\n",
    "joblib.dump(tfidf, \"tfidf_vectorizer.pkl\")\n",
    "\n",
    "print(\"✅ Model and vectorizer saved successfully!\")\n"
   ]
  },
  {
   "cell_type": "code",
   "execution_count": 33,
   "id": "6d4468cf",
   "metadata": {},
   "outputs": [
    {
     "name": "stdout",
     "output_type": "stream",
     "text": [
      "Predicted Category: Data Science\n"
     ]
    }
   ],
   "source": [
    "sample_resume = \"\"\"\n",
    "Experienced Data Scientist with hands-on experience in Python, Machine Learning, \n",
    "Data Analysis, and NLP. Proficient in libraries like pandas, scikit-learn, and TensorFlow. \n",
    "Worked on predictive modeling and data visualization projects.\n",
    "\"\"\"\n",
    "# Resume prediction\\\n",
    "sample_features = tfidf.transform([sample_resume])\n",
    "predicted_category = model.predict(sample_features)[0]\n",
    "\n",
    "print(\"Predicted Category:\", label_encoder.inverse_transform([predicted_category])[0])\n"
   ]
  },
  {
   "cell_type": "code",
   "execution_count": 34,
   "id": "7d1c96d6",
   "metadata": {},
   "outputs": [
    {
     "data": {
      "text/plain": [
       "['src/label_encoder.pkl']"
      ]
     },
     "execution_count": 34,
     "metadata": {},
     "output_type": "execute_result"
    }
   ],
   "source": [
    "import joblib\n",
    "\n",
    "joblib.dump(model, \"src/model.pkl\")\n",
    "joblib.dump(tfidf, \"src/tfidf.pkl\")\n",
    "joblib.dump(label_encoder, \"src/label_encoder.pkl\")\n"
   ]
  },
  {
   "cell_type": "code",
   "execution_count": 35,
   "id": "fa8a9ded",
   "metadata": {},
   "outputs": [
    {
     "name": "stdout",
     "output_type": "stream",
     "text": [
      "✅ Model Accuracy: 99.48 %\n",
      "\n",
      "📊 Classification Report:\n",
      "\n",
      "                           precision    recall  f1-score   support\n",
      "\n",
      "                 Advocate       1.00      1.00      1.00         3\n",
      "                     Arts       1.00      1.00      1.00         6\n",
      "       Automation Testing       1.00      1.00      1.00         5\n",
      "               Blockchain       1.00      1.00      1.00         7\n",
      "         Business Analyst       1.00      1.00      1.00         4\n",
      "           Civil Engineer       1.00      1.00      1.00         9\n",
      "             Data Science       1.00      1.00      1.00         5\n",
      "                 Database       1.00      1.00      1.00         8\n",
      "          DevOps Engineer       1.00      0.93      0.96        14\n",
      "         DotNet Developer       1.00      1.00      1.00         5\n",
      "            ETL Developer       1.00      1.00      1.00         7\n",
      "   Electrical Engineering       1.00      1.00      1.00         6\n",
      "                       HR       1.00      1.00      1.00        12\n",
      "                   Hadoop       1.00      1.00      1.00         4\n",
      "       Health and fitness       1.00      1.00      1.00         7\n",
      "           Java Developer       1.00      1.00      1.00        15\n",
      "      Mechanical Engineer       1.00      1.00      1.00         8\n",
      "Network Security Engineer       1.00      1.00      1.00         3\n",
      "       Operations Manager       1.00      1.00      1.00        12\n",
      "                      PMO       0.88      1.00      0.93         7\n",
      "         Python Developer       1.00      1.00      1.00        10\n",
      "            SAP Developer       1.00      1.00      1.00         7\n",
      "                    Sales       1.00      1.00      1.00         8\n",
      "                  Testing       1.00      1.00      1.00        16\n",
      "            Web Designing       1.00      1.00      1.00         5\n",
      "\n",
      "                 accuracy                           0.99       193\n",
      "                macro avg       0.99      1.00      1.00       193\n",
      "             weighted avg       1.00      0.99      0.99       193\n",
      "\n"
     ]
    },
    {
     "data": {
      "image/png": "[encoded data removed]",
      "text/plain": [
       "<Figure size 1000x600 with 2 Axes>"
      ]
     },
     "metadata": {},
     "output_type": "display_data"
    }
   ],
   "source": [
    "from sklearn.metrics import accuracy_score, classification_report, confusion_matrix\n",
    "import seaborn as sns\n",
    "import matplotlib.pyplot as plt\n",
    "\n",
    "# Transform test data\n",
    "X_test_tfidf = tfidf.transform(X_test)\n",
    "\n",
    "# Predictions\n",
    "y_pred = model.predict(X_test_tfidf)\n",
    "\n",
    "# Accuracy\n",
    "accuracy = accuracy_score(y_test, y_pred)\n",
    "print(\"✅ Model Accuracy:\", round(accuracy * 100, 2), \"%\")\n",
    "\n",
    "# Classification Report\n",
    "print(\"\\n📊 Classification Report:\\n\")\n",
    "print(classification_report(y_test, y_pred, target_names=label_encoder.classes_))\n",
    "\n",
    "# Confusion Matrix\n",
    "plt.figure(figsize=(10, 6))\n",
    "sns.heatmap(confusion_matrix(y_test, y_pred), annot=True, fmt='d',\n",
    "            cmap='Blues', xticklabels=label_encoder.classes_,\n",
    "            yticklabels=label_encoder.classes_)\n",
    "plt.title(\"Confusion Matrix\")\n",
    "plt.xlabel(\"Predicted Label\")\n",
    "plt.ylabel(\"True Label\")\n",
    "plt.show()\n"
   ]
  },
  {
   "cell_type": "code",
   "execution_count": 36,
   "id": "1a2a5be1",
   "metadata": {},
   "outputs": [
    {
     "name": "stdout",
     "output_type": "stream",
     "text": [
      "e:\\AI-Resume screener\\venv\\Scripts\\python.exe\n"
     ]
    }
   ],
   "source": [
    "import sys\n",
    "print(sys.executable)\n"
   ]
  },
  {
   "cell_type": "code",
   "execution_count": 37,
   "id": "fe3618ce",
   "metadata": {},
   "outputs": [
    {
     "name": "stdout",
     "output_type": "stream",
     "text": [
      "✅ Preprocessed data saved to artifacts\\preprocessed_data.csv\n",
      "✅ TF-IDF & LabelEncoder saved in: artifacts\n",
      "✅ Model Trained Successfully! Training Accuracy: 0.66\n",
      "💾 Saved: artifacts\\model.pkl\n",
      "💾 Saved: artifacts\\tfidf.pkl\n",
      "💾 Saved: artifacts\\label_encoder.pkl\n",
      "✅ All artifacts saved successfully!\n"
     ]
    }
   ],
   "source": [
    "import os\n",
    "import sys\n",
    "sys.path.append(os.path.abspath(os.path.join(os.getcwd(), '..')))\n",
    "\n",
    "from src.data_preprocessing import preprocess_data\n",
    "from src.feature_engineering import create_features_and_labels\n",
    "from src.model_training import train_model\n",
    "from src.utils import save_object\n",
    "\n",
    "# 1️⃣ Paths\n",
    "data_path = r\"E:\\AI-Resume screener\\data\\UpdatedResumeDataSet.csv\"\n",
    "preprocessed_path = os.path.join(\"artifacts\", \"preprocessed_data.csv\")\n",
    "\n",
    "# 2️⃣ Preprocess data and save\n",
    "preprocess_data(data_path, preprocessed_path)\n",
    "\n",
    "# 3️⃣ Feature engineering\n",
    "X, y, tfidf_vectorizer, label_encoder = create_features_and_labels(preprocessed_path)\n",
    "\n",
    "# 4️⃣ Train model\n",
    "model = train_model(X, y)\n",
    "\n",
    "# 5️⃣ Save artifacts\n",
    "save_object(model, os.path.join(\"artifacts\", \"model.pkl\"))\n",
    "save_object(tfidf_vectorizer, os.path.join(\"artifacts\", \"tfidf.pkl\"))\n",
    "save_object(label_encoder, os.path.join(\"artifacts\", \"label_encoder.pkl\"))\n",
    "\n",
    "print(\"✅ All artifacts saved successfully!\")\n"
   ]
  },
  {
   "cell_type": "code",
   "execution_count": 38,
   "id": "5afed5c2",
   "metadata": {},
   "outputs": [],
   "source": [
    "from src.data_preprocessing import preprocess_data\n",
    "from src.feature_engineering import create_features_and_labels\n",
    "from src.model_training import train_model\n"
   ]
  },
  {
   "cell_type": "code",
   "execution_count": 39,
   "id": "063c9516",
   "metadata": {},
   "outputs": [],
   "source": [
    "import os, sys\n",
    "\n",
    "# ✅ Ensure project root (ek level upar jaa raha hai)\n",
    "sys.path.append(os.path.abspath(os.path.join(os.getcwd(), '..')))\n",
    "\n",
    "# ✅ Import project modules\n",
    "from src.data_preprocessing import preprocess_data\n",
    "from src.feature_engineering import create_features_and_labels\n",
    "from src.model_training import train_model\n"
   ]
  },
  {
   "cell_type": "code",
   "execution_count": 40,
   "id": "a3301e30",
   "metadata": {},
   "outputs": [
    {
     "name": "stdout",
     "output_type": "stream",
     "text": [
      "✅ Preprocessed data saved to artifacts\\preprocessed_data.csv\n",
      "✅ Data Preprocessing Completed!\n",
      "📄 Preprocessed file saved at: artifacts\\preprocessed_data.csv\n",
      "📊 Shape of preprocessed data: (2162, 3)\n"
     ]
    }
   ],
   "source": [
    "from src.data_preprocessing import preprocess_data\n",
    "\n",
    "\n",
    "data_path = os.path.join('data', 'UpdatedResumeDataSet.csv')\n",
    "\n",
    "\n",
    "output_path = os.path.join('artifacts', 'preprocessed_data.csv')\n",
    "\n",
    "\n",
    "preprocessed_data = preprocess_data(data_path, output_path)\n",
    "\n",
    "print(\"✅ Data Preprocessing Completed!\")\n",
    "print(\"📄 Preprocessed file saved at:\", output_path)\n",
    "print(\"📊 Shape of preprocessed data:\", preprocessed_data.shape)\n"
   ]
  },
  {
   "cell_type": "code",
   "execution_count": 41,
   "id": "a3301e30",
   "metadata": {},
   "outputs": [
    {
     "name": "stdout",
     "output_type": "stream",
     "text": [
      "✅ Preprocessed data saved to artifacts\\preprocessed_data.csv\n"
     ]
    }
   ],
   "source": [
    "import os\n",
    "data_path = os.path.join('data', 'UpdatedResumeDataSet.csv')\n",
    "output_path = os.path.join('artifacts', 'preprocessed_data.csv')\n",
    "\n",
    "preprocessed_data = preprocess_data(data_path, output_path)\n"
   ]
  },
  {
   "cell_type": "code",
   "execution_count": 42,
   "id": "29888dff",
   "metadata": {},
   "outputs": [
    {
     "name": "stdout",
     "output_type": "stream",
     "text": [
      "def create_features_and_labels(csv_path, save_dir='artifacts'):\n",
      "  \n",
      "    df = pd.read_csv(csv_path)\n",
      "\n",
      "\n",
      "    tfidf = TfidfVectorizer(stop_words='english', max_features=5000)\n",
      "    X = tfidf.fit_transform(df['cleaned_resume']).toarray()\n",
      "\n",
      "   \n",
      "    le = LabelEncoder()\n",
      "    y = le.fit_transform(df['Category'])\n",
      "\n",
      " \n",
      "    os.makedirs(save_dir, exist_ok=True)\n",
      "    joblib.dump(tfidf, os.path.join(save_dir, 'tfidf_vectorizer.pkl'))\n",
      "    joblib.dump(le, os.path.join(save_dir, 'label_encoder.pkl'))\n",
      "\n",
      "    print(f\"✅ TF-IDF & LabelEncoder saved in: {save_dir}\")\n",
      "    return X, y, tfidf, le\n",
      "\n"
     ]
    }
   ],
   "source": [
    "from inspect import getsource\n",
    "import src.feature_engineering as fe\n",
    "\n",
    "print(getsource(fe.create_features_and_labels))\n"
   ]
  },
  {
   "cell_type": "code",
   "execution_count": 43,
   "id": "88119387",
   "metadata": {},
   "outputs": [
    {
     "name": "stdout",
     "output_type": "stream",
     "text": [
      "✅ TF-IDF & LabelEncoder saved in: artifacts\n",
      "✅ Feature Engineering Completed!\n",
      "Shape of Features (X): (2162, 5000)\n",
      "Number of Labels: 47\n"
     ]
    }
   ],
   "source": [
    "from src.feature_engineering import create_features_and_labels\n",
    "import os\n",
    "\n",
    "input_path = os.path.join('artifacts', 'preprocessed_data.csv')\n",
    "\n",
    "X, y, tfidf_vectorizer, label_encoder = create_features_and_labels(input_path)\n",
    "\n",
    "print(\"✅ Feature Engineering Completed!\")\n",
    "print(\"Shape of Features (X):\", X.shape)\n",
    "print(\"Number of Labels:\", len(set(y)))\n"
   ]
  },
  {
   "cell_type": "code",
   "execution_count": 44,
   "id": "c87f8895",
   "metadata": {},
   "outputs": [
    {
     "name": "stdout",
     "output_type": "stream",
     "text": [
      "✅ Model Trained Successfully! Training Accuracy: 0.66\n",
      "💾 Saved: artifacts\\model.pkl\n",
      "✅ Model trained and saved successfully!\n"
     ]
    }
   ],
   "source": [
    "from src.model_training import train_model\n",
    "from src.utils import save_object\n",
    "import os\n",
    "\n",
    "# Train the model\n",
    "model = train_model(X, y)\n",
    "\n",
    "# Save the trained model\n",
    "save_object(model, os.path.join(\"artifacts\", \"model.pkl\"))\n",
    "\n",
    "print(\"✅ Model trained and saved successfully!\")\n"
   ]
  },
  {
   "cell_type": "code",
   "execution_count": 45,
   "id": "b13eabf1",
   "metadata": {},
   "outputs": [
    {
     "name": "stdout",
     "output_type": "stream",
     "text": [
      "🧠 Predicted Job Category: Python Developer\n"
     ]
    }
   ],
   "source": [
    "from src.predict import predict_category\n",
    "import os\n",
    "\n",
    "model_path = os.path.join(\"artifacts\", \"model.pkl\")\n",
    "tfidf_path = os.path.join(\"artifacts\", \"tfidf_vectorizer.pkl\")\n",
    "label_encoder_path = os.path.join(\"artifacts\", \"label_encoder.pkl\")\n",
    "\n",
    "sample_resume = \"\"\"\n",
    "Experienced data analyst skilled in Python, SQL, Power BI, and data visualization.\n",
    "Worked on large datasets, building dashboards and generating business insights.\n",
    "\"\"\"\n",
    "\n",
    "predicted_category = predict_category(sample_resume, model_path, tfidf_path, label_encoder_path)\n",
    "\n",
    "print(\"🧠 Predicted Job Category:\", predicted_category)\n"
   ]
  },
  {
   "cell_type": "code",
   "execution_count": 46,
   "id": "dec58917",
   "metadata": {},
   "outputs": [
    {
     "name": "stdout",
     "output_type": "stream",
     "text": [
      "✅ TF-IDF & LabelEncoder saved in: artifacts\n",
      "✅ Model Accuracy: 0.6812933025404158\n",
      "\n",
      "📊 Classification Report:\n",
      "               precision    recall  f1-score   support\n",
      "\n",
      "           0       0.00      0.00      0.00         6\n",
      "           1       1.00      0.33      0.50         9\n",
      "           2       1.00      0.33      0.50         3\n",
      "           3       1.00      1.00      1.00        10\n",
      "           4       1.00      0.83      0.91         6\n",
      "           5       1.00      0.50      0.67        10\n",
      "           6       1.00      1.00      1.00        10\n",
      "           7       1.00      0.95      0.97        19\n",
      "           8       1.00      0.88      0.94        17\n",
      "           9       1.00      0.17      0.29         6\n",
      "          10       1.00      0.17      0.29         6\n",
      "          11       1.00      0.17      0.29         6\n",
      "          12       0.20      1.00      0.34        12\n",
      "          13       1.00      1.00      1.00         2\n",
      "          14       0.40      0.94      0.56        17\n",
      "          15       1.00      0.23      0.38        13\n",
      "          16       1.00      1.00      1.00         4\n",
      "          17       1.00      1.00      1.00         9\n",
      "          18       1.00      0.29      0.44         7\n",
      "          19       1.00      1.00      1.00         7\n",
      "          20       1.00      0.60      0.75        10\n",
      "          21       1.00      0.22      0.36         9\n",
      "          22       1.00      1.00      1.00        11\n",
      "          23       1.00      0.25      0.40         8\n",
      "          24       1.00      1.00      1.00         9\n",
      "          25       1.00      1.00      1.00         5\n",
      "          26       0.36      0.95      0.52        19\n",
      "          27       1.00      0.62      0.77         8\n",
      "          28       1.00      0.62      0.77         8\n",
      "          29       1.00      0.12      0.22         8\n",
      "          30       0.00      0.00      0.00         5\n",
      "          31       0.67      1.00      0.80        14\n",
      "          32       1.00      1.00      1.00         4\n",
      "          33       1.00      0.50      0.67        10\n",
      "          34       0.74      0.78      0.76        18\n",
      "          35       1.00      1.00      1.00         4\n",
      "          36       1.00      0.20      0.33        10\n",
      "          37       1.00      0.50      0.67         4\n",
      "          38       0.41      0.94      0.57        17\n",
      "          39       1.00      1.00      1.00         6\n",
      "          40       1.00      1.00      1.00        11\n",
      "          41       1.00      0.58      0.74        12\n",
      "          42       0.00      0.00      0.00         8\n",
      "          43       1.00      0.29      0.44         7\n",
      "          44       1.00      1.00      1.00        15\n",
      "          45       1.00      1.00      1.00         4\n",
      "          46       0.00      0.00      0.00        10\n",
      "\n",
      "    accuracy                           0.68       433\n",
      "   macro avg       0.85      0.64      0.66       433\n",
      "weighted avg       0.81      0.68      0.66       433\n",
      "\n"
     ]
    },
    {
     "name": "stderr",
     "output_type": "stream",
     "text": [
      "e:\\AI-Resume screener\\venv\\Lib\\site-packages\\sklearn\\metrics\\_classification.py:1731: UndefinedMetricWarning: Precision is ill-defined and being set to 0.0 in labels with no predicted samples. Use `zero_division` parameter to control this behavior.\n",
      "  _warn_prf(average, modifier, f\"{metric.capitalize()} is\", result.shape[0])\n",
      "e:\\AI-Resume screener\\venv\\Lib\\site-packages\\sklearn\\metrics\\_classification.py:1731: UndefinedMetricWarning: Precision is ill-defined and being set to 0.0 in labels with no predicted samples. Use `zero_division` parameter to control this behavior.\n",
      "  _warn_prf(average, modifier, f\"{metric.capitalize()} is\", result.shape[0])\n",
      "e:\\AI-Resume screener\\venv\\Lib\\site-packages\\sklearn\\metrics\\_classification.py:1731: UndefinedMetricWarning: Precision is ill-defined and being set to 0.0 in labels with no predicted samples. Use `zero_division` parameter to control this behavior.\n",
      "  _warn_prf(average, modifier, f\"{metric.capitalize()} is\", result.shape[0])\n"
     ]
    }
   ],
   "source": [
    "import joblib\n",
    "import pandas as pd\n",
    "from sklearn.metrics import accuracy_score, classification_report\n",
    "from sklearn.model_selection import train_test_split\n",
    "\n",
    "from src.data_preprocessing import preprocess_data\n",
    "from src.feature_engineering import create_features_and_labels\n",
    "\n",
    "# ✅ Step 1: Load and preprocess data\n",
    "data = preprocess_data(r\"E:\\AI-Resume screener\\data\\UpdatedResumeDataSet.csv\")\n",
    "\n",
    "# ✅ Step 2: Feature creation (from preprocessed CSV)\n",
    "X, y, tfidf, label_encoder = create_features_and_labels(\"artifacts/preprocessed_data.csv\")\n",
    "\n",
    "# ✅ Step 3: Split data\n",
    "X_train, X_test, y_train, y_test = train_test_split(X, y, test_size=0.2, random_state=42)\n",
    "\n",
    "# ✅ Step 4: Load model and label encoder\n",
    "model = joblib.load(\"artifacts/model.pkl\")\n",
    "\n",
    "# ✅ Step 5: Evaluate\n",
    "y_pred = model.predict(X_test)\n",
    "print(\"✅ Model Accuracy:\", accuracy_score(y_test, y_pred))\n",
    "print(\"\\n📊 Classification Report:\\n\", classification_report(y_test, y_pred))\n"
   ]
  },
  {
   "cell_type": "code",
   "execution_count": 47,
   "id": "ab484b46",
   "metadata": {},
   "outputs": [
    {
     "name": "stdout",
     "output_type": "stream",
     "text": [
      "Index(['Category', 'Resume'], dtype='object')\n"
     ]
    }
   ],
   "source": [
    "import pandas as pd\n",
    "\n",
    "data = pd.read_csv(\"data/UpdatedResumeDataSet.csv\")\n",
    "print(data.columns)\n"
   ]
  },
  {
   "cell_type": "code",
   "execution_count": 48,
   "id": "b7887361",
   "metadata": {},
   "outputs": [
    {
     "name": "stdout",
     "output_type": "stream",
     "text": [
      "✅ Enhanced data appended to UpdatedResumeDataSet.csv successfully!\n",
      "Total rows now: 2762\n"
     ]
    }
   ],
   "source": [
    "import pandas as pd\n",
    "\n",
    "# File paths\n",
    "enhanced_path = r\"E:\\AI-Resume screener\\data\\EnhancedResumeDataset.csv\"\n",
    "updated_path = r\"E:\\AI-Resume screener\\data\\UpdatedResumeDataSet.csv\"\n",
    "\n",
    "# Load datasets\n",
    "enhanced_df = pd.read_csv(enhanced_path)\n",
    "updated_df = pd.read_csv(updated_path)\n",
    "\n",
    "# Append enhanced data to updated data\n",
    "combined_df = pd.concat([updated_df, enhanced_df], ignore_index=True)\n",
    "\n",
    "# Save back to UpdatedResumeDataSet.csv\n",
    "combined_df.to_csv(updated_path, index=False)\n",
    "\n",
    "print(f\"✅ Enhanced data appended to UpdatedResumeDataSet.csv successfully!\")\n",
    "print(f\"Total rows now: {len(combined_df)}\")\n"
   ]
  },
  {
   "cell_type": "code",
   "execution_count": 50,
   "id": "d0633091",
   "metadata": {},
   "outputs": [
    {
     "name": "stdout",
     "output_type": "stream",
     "text": [
      "Index(['Category', 'Resume'], dtype='object')\n"
     ]
    }
   ],
   "source": [
    "print(data.columns)\n"
   ]
  },
  {
   "cell_type": "code",
   "execution_count": null,
   "id": "304a208b",
   "metadata": {},
   "outputs": [
    {
     "name": "stdout",
     "output_type": "stream",
     "text": [
      "\n",
      "✅ Accuracy on test set: 0.6813\n",
      "\n",
      "📊 Classification Report:\n",
      "\n"
     ]
    },
    {
     "ename": "NameError",
     "evalue": "name 'le' is not defined",
     "output_type": "error",
     "traceback": [
      "\u001b[31m---------------------------------------------------------------------------\u001b[39m",
      "\u001b[31mNameError\u001b[39m                                 Traceback (most recent call last)",
      "\u001b[36mCell\u001b[39m\u001b[36m \u001b[39m\u001b[32mIn[52]\u001b[39m\u001b[32m, line 5\u001b[39m\n\u001b[32m      3\u001b[39m \u001b[38;5;28mprint\u001b[39m(\u001b[33mf\u001b[39m\u001b[33m\"\u001b[39m\u001b[38;5;130;01m\\n\u001b[39;00m\u001b[33m✅ Accuracy on test set: \u001b[39m\u001b[38;5;132;01m{\u001b[39;00macc\u001b[38;5;132;01m:\u001b[39;00m\u001b[33m.4f\u001b[39m\u001b[38;5;132;01m}\u001b[39;00m\u001b[38;5;130;01m\\n\u001b[39;00m\u001b[33m\"\u001b[39m)\n\u001b[32m      4\u001b[39m \u001b[38;5;28mprint\u001b[39m(\u001b[33m\"\u001b[39m\u001b[33m📊 Classification Report:\u001b[39m\u001b[38;5;130;01m\\n\u001b[39;00m\u001b[33m\"\u001b[39m)\n\u001b[32m----> \u001b[39m\u001b[32m5\u001b[39m \u001b[38;5;28mprint\u001b[39m(classification_report(y_test, y_pred, target_names=\u001b[43mle\u001b[49m.classes_, zero_division=\u001b[32m0\u001b[39m))\n",
      "\u001b[31mNameError\u001b[39m: name 'le' is not defined"
     ]
    }
   ],
   "source": []
  },
  {
   "cell_type": "code",
   "execution_count": null,
   "id": "ea4ed54b",
   "metadata": {},
   "outputs": [],
   "source": []
  }
 ],
 "metadata": {
  "kernelspec": {
   "display_name": "Python 3",
   "language": "python",
   "name": "python3"
  },
  "language_info": {
   "codemirror_mode": {
    "name": "ipython",
    "version": 3
   },
   "file_extension": ".py",
   "mimetype": "text/x-python",
   "name": "python",
   "nbconvert_exporter": "python",
   "pygments_lexer": "ipython3",
   "version": "3.12.3"
  }
 },
 "nbformat": 4,
 "nbformat_minor": 5
}
